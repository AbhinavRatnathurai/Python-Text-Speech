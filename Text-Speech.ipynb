{
  "cells": [
    {
      "cell_type": "code",
      "execution_count": 1,
      "metadata": {
        "colab": {
          "base_uri": "https://localhost:8080/"
        },
        "id": "TaPoNZ5tsdX4",
        "outputId": "7d4894f7-7873-4e24-a3bb-7e95f04a30c6"
      },
      "outputs": [
        {
          "name": "stdout",
          "output_type": "stream",
          "text": [
            "Requirement already satisfied: ibm_watson in /Users/abhinavratnathurai/opt/anaconda3/lib/python3.9/site-packages (6.1.0)\n",
            "Requirement already satisfied: requests<3.0,>=2.0 in /Users/abhinavratnathurai/opt/anaconda3/lib/python3.9/site-packages (from ibm_watson) (2.28.1)\n",
            "Requirement already satisfied: python-dateutil>=2.5.3 in /Users/abhinavratnathurai/opt/anaconda3/lib/python3.9/site-packages (from ibm_watson) (2.8.2)\n",
            "Requirement already satisfied: websocket-client==1.1.0 in /Users/abhinavratnathurai/opt/anaconda3/lib/python3.9/site-packages (from ibm_watson) (1.1.0)\n",
            "Requirement already satisfied: ibm-cloud-sdk-core==3.*,>=3.3.6 in /Users/abhinavratnathurai/opt/anaconda3/lib/python3.9/site-packages (from ibm_watson) (3.16.2)\n",
            "Requirement already satisfied: PyJWT<3.0.0,>=2.4.0 in /Users/abhinavratnathurai/opt/anaconda3/lib/python3.9/site-packages (from ibm-cloud-sdk-core==3.*,>=3.3.6->ibm_watson) (2.4.0)\n",
            "Requirement already satisfied: urllib3<2.0.0,>=1.26.0 in /Users/abhinavratnathurai/opt/anaconda3/lib/python3.9/site-packages (from ibm-cloud-sdk-core==3.*,>=3.3.6->ibm_watson) (1.26.11)\n",
            "Requirement already satisfied: six>=1.5 in /Users/abhinavratnathurai/opt/anaconda3/lib/python3.9/site-packages (from python-dateutil>=2.5.3->ibm_watson) (1.16.0)\n",
            "Requirement already satisfied: charset-normalizer<3,>=2 in /Users/abhinavratnathurai/opt/anaconda3/lib/python3.9/site-packages (from requests<3.0,>=2.0->ibm_watson) (2.0.4)\n",
            "Requirement already satisfied: idna<4,>=2.5 in /Users/abhinavratnathurai/opt/anaconda3/lib/python3.9/site-packages (from requests<3.0,>=2.0->ibm_watson) (3.3)\n",
            "Requirement already satisfied: certifi>=2017.4.17 in /Users/abhinavratnathurai/opt/anaconda3/lib/python3.9/site-packages (from requests<3.0,>=2.0->ibm_watson) (2022.9.24)\n",
            "Note: you may need to restart the kernel to use updated packages.\n"
          ]
        }
      ],
      "source": [
        "pip install ibm_watson"
      ]
    },
    {
      "cell_type": "code",
      "execution_count": 2,
      "metadata": {
        "id": "eZQ-X9jJf9VH"
      },
      "outputs": [],
      "source": [
        "from ibm_watson import TextToSpeechV1\n",
        "from ibm_cloud_sdk_core.authenticators import IAMAuthenticator"
      ]
    },
    {
      "cell_type": "code",
      "execution_count": 3,
      "metadata": {
        "id": "GaK8I_pnfU3s"
      },
      "outputs": [],
      "source": [
        "apikey = 'kPjbJKGTSd_eXGSckUA51-DHnteasGj6MAGhbUaPtjf0'\n",
        "url = 'https://api.eu-gb.text-to-speech.watson.cloud.ibm.com/instances/5feb4f10-875f-42b4-853c-36b5100563da'"
      ]
    },
    {
      "cell_type": "code",
      "execution_count": 4,
      "metadata": {
        "id": "4dW_OB1RgIFT"
      },
      "outputs": [],
      "source": [
        "# Setup Service\n",
        "authenticator = IAMAuthenticator(apikey)\n",
        "# New TTS Service\n",
        "tts = TextToSpeechV1(authenticator=authenticator)\n",
        "# Set Service URL\n",
        "tts.set_service_url(url)"
      ]
    },
    {
      "cell_type": "code",
      "execution_count": 6,
      "metadata": {
        "id": "Ovk7vc58gKPZ"
      },
      "outputs": [],
      "source": [
        "#reading a file\n",
        "with open('Test.txt', 'r') as f:\n",
        "    text = f.readlines()\n",
        "    text = [line.replace('\\n', '') for line in text]\n",
        "    text = ''.join(str(line) for line in text)\n",
        "\n",
        "with open('test.mp3', 'wb') as audio_file:\n",
        "    res = tts.synthesize(text, accept='audio/mp3',\n",
        "                         voice='en-GB_KateV3Voice').get_result()\n",
        "    audio_file.write(res.content)\n"
      ]
    }
  ],
  "metadata": {
    "colab": {
      "provenance": []
    },
    "kernelspec": {
      "display_name": "Python 3",
      "name": "python3"
    },
    "language_info": {
      "codemirror_mode": {
        "name": "ipython",
        "version": 3
      },
      "file_extension": ".py",
      "mimetype": "text/x-python",
      "name": "python",
      "nbconvert_exporter": "python",
      "pygments_lexer": "ipython3",
      "version": "3.9.13"
    }
  },
  "nbformat": 4,
  "nbformat_minor": 0
}
